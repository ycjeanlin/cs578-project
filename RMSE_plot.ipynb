{
 "cells": [
  {
   "cell_type": "code",
   "execution_count": 1,
   "metadata": {
    "collapsed": true
   },
   "outputs": [],
   "source": [
    "import pandas as pd\n",
    "import numpy as np\n",
    "\n",
    "import matplotlib.pyplot as plt\n",
    "import seaborn as sns\n",
    "from matplotlib import rcParams\n",
    "\n",
    "sns.set_context(\"talk\")\n",
    "sns.set_style(\"whitegrid\")\n",
    "rcParams['patch.force_edgecolor'] = True\n",
    "%matplotlib inline "
   ]
  },
  {
   "cell_type": "code",
   "execution_count": 2,
   "metadata": {},
   "outputs": [
    {
     "data": {
      "text/html": [
       "<div>\n",
       "<style>\n",
       "    .dataframe thead tr:only-child th {\n",
       "        text-align: right;\n",
       "    }\n",
       "\n",
       "    .dataframe thead th {\n",
       "        text-align: left;\n",
       "    }\n",
       "\n",
       "    .dataframe tbody tr th {\n",
       "        vertical-align: top;\n",
       "    }\n",
       "</style>\n",
       "<table border=\"1\" class=\"dataframe\">\n",
       "  <thead>\n",
       "    <tr style=\"text-align: right;\">\n",
       "      <th>columns (m)</th>\n",
       "      <th>1</th>\n",
       "      <th>51</th>\n",
       "      <th>101</th>\n",
       "      <th>151</th>\n",
       "      <th>201</th>\n",
       "      <th>251</th>\n",
       "    </tr>\n",
       "  </thead>\n",
       "  <tbody>\n",
       "    <tr>\n",
       "      <th>0</th>\n",
       "      <td>3.105163</td>\n",
       "      <td>3.082867</td>\n",
       "      <td>3.133239</td>\n",
       "      <td>3.162188</td>\n",
       "      <td>3.186563</td>\n",
       "      <td>3.201446</td>\n",
       "    </tr>\n",
       "    <tr>\n",
       "      <th>1</th>\n",
       "      <td>3.103628</td>\n",
       "      <td>3.095380</td>\n",
       "      <td>3.139805</td>\n",
       "      <td>3.176492</td>\n",
       "      <td>3.198192</td>\n",
       "      <td>3.214178</td>\n",
       "    </tr>\n",
       "    <tr>\n",
       "      <th>2</th>\n",
       "      <td>3.108807</td>\n",
       "      <td>3.095280</td>\n",
       "      <td>3.145208</td>\n",
       "      <td>3.177386</td>\n",
       "      <td>3.198234</td>\n",
       "      <td>3.214363</td>\n",
       "    </tr>\n",
       "    <tr>\n",
       "      <th>3</th>\n",
       "      <td>3.114352</td>\n",
       "      <td>3.092221</td>\n",
       "      <td>3.144049</td>\n",
       "      <td>3.177909</td>\n",
       "      <td>3.201097</td>\n",
       "      <td>3.221734</td>\n",
       "    </tr>\n",
       "    <tr>\n",
       "      <th>4</th>\n",
       "      <td>3.129124</td>\n",
       "      <td>3.103276</td>\n",
       "      <td>3.158544</td>\n",
       "      <td>3.192459</td>\n",
       "      <td>3.222882</td>\n",
       "      <td>3.241518</td>\n",
       "    </tr>\n",
       "  </tbody>\n",
       "</table>\n",
       "</div>"
      ],
      "text/plain": [
       "columns (m)       1         51        101       151       201       251\n",
       "0            3.105163  3.082867  3.133239  3.162188  3.186563  3.201446\n",
       "1            3.103628  3.095380  3.139805  3.176492  3.198192  3.214178\n",
       "2            3.108807  3.095280  3.145208  3.177386  3.198234  3.214363\n",
       "3            3.114352  3.092221  3.144049  3.177909  3.201097  3.221734\n",
       "4            3.129124  3.103276  3.158544  3.192459  3.222882  3.241518"
      ]
     },
     "execution_count": 2,
     "metadata": {},
     "output_type": "execute_result"
    }
   ],
   "source": [
    "df = pd.read_csv('rmse-step50.csv')\n",
    "df = df.set_index('Unnamed: 0')\n",
    "df = df.transpose()\n",
    "df.columns.name = 'columns (m)'\n",
    "df.head()"
   ]
  },
  {
   "cell_type": "code",
   "execution_count": 3,
   "metadata": {},
   "outputs": [
    {
     "name": "stderr",
     "output_type": "stream",
     "text": [
      "/Library/Frameworks/Python.framework/Versions/3.6/lib/python3.6/site-packages/seaborn/timeseries.py:183: UserWarning: The tsplot function is deprecated and will be removed or replaced (in a substantially altered version) in a future release.\n",
      "  warnings.warn(msg, UserWarning)\n"
     ]
    },
    {
     "data": {
      "text/plain": [
       "<matplotlib.axes._subplots.AxesSubplot at 0x112f25a90>"
      ]
     },
     "execution_count": 3,
     "metadata": {},
     "output_type": "execute_result"
    },
    {
     "data": {
      "image/png": "[encoded data removed]",
      "text/plain": [
       "<matplotlib.figure.Figure at 0x112f25518>"
      ]
     },
     "metadata": {},
     "output_type": "display_data"
    }
   ],
   "source": [
    "plt.suptitle('RMSE vs. Columns',fontsize=14)\n",
    "plt.title('(Test Step of 50, m from 1 to 251)', fontsize=10)\n",
    "sns.tsplot(data=df.as_matrix(), time=df.columns, value='RMSE')"
   ]
  },
  {
   "cell_type": "code",
   "execution_count": 4,
   "metadata": {},
   "outputs": [
    {
     "data": {
      "text/html": [
       "<div>\n",
       "<style>\n",
       "    .dataframe thead tr:only-child th {\n",
       "        text-align: right;\n",
       "    }\n",
       "\n",
       "    .dataframe thead th {\n",
       "        text-align: left;\n",
       "    }\n",
       "\n",
       "    .dataframe tbody tr th {\n",
       "        vertical-align: top;\n",
       "    }\n",
       "</style>\n",
       "<table border=\"1\" class=\"dataframe\">\n",
       "  <thead>\n",
       "    <tr style=\"text-align: right;\">\n",
       "      <th>columns (m)</th>\n",
       "      <th>25</th>\n",
       "      <th>30</th>\n",
       "      <th>35</th>\n",
       "      <th>40</th>\n",
       "      <th>45</th>\n",
       "      <th>50</th>\n",
       "      <th>55</th>\n",
       "      <th>60</th>\n",
       "      <th>65</th>\n",
       "      <th>70</th>\n",
       "      <th>75</th>\n",
       "    </tr>\n",
       "  </thead>\n",
       "  <tbody>\n",
       "    <tr>\n",
       "      <th>0</th>\n",
       "      <td>3.043860</td>\n",
       "      <td>3.053945</td>\n",
       "      <td>3.063041</td>\n",
       "      <td>3.069661</td>\n",
       "      <td>3.074690</td>\n",
       "      <td>3.081685</td>\n",
       "      <td>3.087658</td>\n",
       "      <td>3.093412</td>\n",
       "      <td>3.097579</td>\n",
       "      <td>3.101426</td>\n",
       "      <td>3.106307</td>\n",
       "    </tr>\n",
       "    <tr>\n",
       "      <th>1</th>\n",
       "      <td>3.058094</td>\n",
       "      <td>3.065184</td>\n",
       "      <td>3.070810</td>\n",
       "      <td>3.079218</td>\n",
       "      <td>3.086484</td>\n",
       "      <td>3.094714</td>\n",
       "      <td>3.098720</td>\n",
       "      <td>3.103077</td>\n",
       "      <td>3.107106</td>\n",
       "      <td>3.111489</td>\n",
       "      <td>3.117660</td>\n",
       "    </tr>\n",
       "    <tr>\n",
       "      <th>2</th>\n",
       "      <td>3.056209</td>\n",
       "      <td>3.065263</td>\n",
       "      <td>3.073403</td>\n",
       "      <td>3.079065</td>\n",
       "      <td>3.087248</td>\n",
       "      <td>3.093910</td>\n",
       "      <td>3.099716</td>\n",
       "      <td>3.108552</td>\n",
       "      <td>3.114364</td>\n",
       "      <td>3.120813</td>\n",
       "      <td>3.125829</td>\n",
       "    </tr>\n",
       "    <tr>\n",
       "      <th>3</th>\n",
       "      <td>3.058228</td>\n",
       "      <td>3.067787</td>\n",
       "      <td>3.074062</td>\n",
       "      <td>3.079273</td>\n",
       "      <td>3.084284</td>\n",
       "      <td>3.090731</td>\n",
       "      <td>3.097047</td>\n",
       "      <td>3.104601</td>\n",
       "      <td>3.112904</td>\n",
       "      <td>3.119972</td>\n",
       "      <td>3.124145</td>\n",
       "    </tr>\n",
       "    <tr>\n",
       "      <th>4</th>\n",
       "      <td>3.062912</td>\n",
       "      <td>3.075189</td>\n",
       "      <td>3.081437</td>\n",
       "      <td>3.089392</td>\n",
       "      <td>3.095737</td>\n",
       "      <td>3.102451</td>\n",
       "      <td>3.108554</td>\n",
       "      <td>3.113319</td>\n",
       "      <td>3.119526</td>\n",
       "      <td>3.125229</td>\n",
       "      <td>3.129600</td>\n",
       "    </tr>\n",
       "  </tbody>\n",
       "</table>\n",
       "</div>"
      ],
      "text/plain": [
       "columns (m)        25        30        35        40        45        50  \\\n",
       "0            3.043860  3.053945  3.063041  3.069661  3.074690  3.081685   \n",
       "1            3.058094  3.065184  3.070810  3.079218  3.086484  3.094714   \n",
       "2            3.056209  3.065263  3.073403  3.079065  3.087248  3.093910   \n",
       "3            3.058228  3.067787  3.074062  3.079273  3.084284  3.090731   \n",
       "4            3.062912  3.075189  3.081437  3.089392  3.095737  3.102451   \n",
       "\n",
       "columns (m)        55        60        65        70        75  \n",
       "0            3.087658  3.093412  3.097579  3.101426  3.106307  \n",
       "1            3.098720  3.103077  3.107106  3.111489  3.117660  \n",
       "2            3.099716  3.108552  3.114364  3.120813  3.125829  \n",
       "3            3.097047  3.104601  3.112904  3.119972  3.124145  \n",
       "4            3.108554  3.113319  3.119526  3.125229  3.129600  "
      ]
     },
     "execution_count": 4,
     "metadata": {},
     "output_type": "execute_result"
    }
   ],
   "source": [
    "df = pd.read_csv('rmse-step5.csv')\n",
    "df = df.set_index('Unnamed: 0')\n",
    "df = df.transpose()\n",
    "df.columns.name = 'columns (m)'\n",
    "df.head()"
   ]
  },
  {
   "cell_type": "code",
   "execution_count": 5,
   "metadata": {},
   "outputs": [
    {
     "name": "stderr",
     "output_type": "stream",
     "text": [
      "/Library/Frameworks/Python.framework/Versions/3.6/lib/python3.6/site-packages/seaborn/timeseries.py:183: UserWarning: The tsplot function is deprecated and will be removed or replaced (in a substantially altered version) in a future release.\n",
      "  warnings.warn(msg, UserWarning)\n"
     ]
    },
    {
     "data": {
      "text/plain": [
       "<matplotlib.axes._subplots.AxesSubplot at 0x112fba908>"
      ]
     },
     "execution_count": 5,
     "metadata": {},
     "output_type": "execute_result"
    },
    {
     "data": {
      "image/png": "[encoded data removed]",
      "text/plain": [
       "<matplotlib.figure.Figure at 0x113022978>"
      ]
     },
     "metadata": {},
     "output_type": "display_data"
    }
   ],
   "source": [
    "plt.suptitle('RMSE vs. Columns',fontsize=14)\n",
    "plt.title('(Test Step of 5, m from 25 to 75)', fontsize=10)\n",
    "sns.tsplot(data=df.as_matrix(), time=df.columns, value='RMSE')"
   ]
  },
  {
   "cell_type": "code",
   "execution_count": 6,
   "metadata": {},
   "outputs": [
    {
     "data": {
      "text/html": [
       "<div>\n",
       "<style>\n",
       "    .dataframe thead tr:only-child th {\n",
       "        text-align: right;\n",
       "    }\n",
       "\n",
       "    .dataframe thead th {\n",
       "        text-align: left;\n",
       "    }\n",
       "\n",
       "    .dataframe tbody tr th {\n",
       "        vertical-align: top;\n",
       "    }\n",
       "</style>\n",
       "<table border=\"1\" class=\"dataframe\">\n",
       "  <thead>\n",
       "    <tr style=\"text-align: right;\">\n",
       "      <th>columns (m)</th>\n",
       "      <th>1</th>\n",
       "      <th>2</th>\n",
       "      <th>3</th>\n",
       "      <th>4</th>\n",
       "      <th>5</th>\n",
       "      <th>6</th>\n",
       "      <th>7</th>\n",
       "      <th>8</th>\n",
       "      <th>9</th>\n",
       "      <th>10</th>\n",
       "      <th>...</th>\n",
       "      <th>15</th>\n",
       "      <th>16</th>\n",
       "      <th>17</th>\n",
       "      <th>18</th>\n",
       "      <th>19</th>\n",
       "      <th>20</th>\n",
       "      <th>21</th>\n",
       "      <th>22</th>\n",
       "      <th>23</th>\n",
       "      <th>24</th>\n",
       "    </tr>\n",
       "  </thead>\n",
       "  <tbody>\n",
       "    <tr>\n",
       "      <th>0</th>\n",
       "      <td>3.105163</td>\n",
       "      <td>3.057176</td>\n",
       "      <td>3.032929</td>\n",
       "      <td>3.031927</td>\n",
       "      <td>3.023577</td>\n",
       "      <td>3.019515</td>\n",
       "      <td>3.021209</td>\n",
       "      <td>3.019978</td>\n",
       "      <td>3.020911</td>\n",
       "      <td>3.022078</td>\n",
       "      <td>...</td>\n",
       "      <td>3.030379</td>\n",
       "      <td>3.032128</td>\n",
       "      <td>3.033085</td>\n",
       "      <td>3.034386</td>\n",
       "      <td>3.036236</td>\n",
       "      <td>3.038905</td>\n",
       "      <td>3.038712</td>\n",
       "      <td>3.039494</td>\n",
       "      <td>3.041370</td>\n",
       "      <td>3.042507</td>\n",
       "    </tr>\n",
       "    <tr>\n",
       "      <th>1</th>\n",
       "      <td>3.103628</td>\n",
       "      <td>3.061955</td>\n",
       "      <td>3.039230</td>\n",
       "      <td>3.038055</td>\n",
       "      <td>3.032453</td>\n",
       "      <td>3.029328</td>\n",
       "      <td>3.033149</td>\n",
       "      <td>3.029922</td>\n",
       "      <td>3.031854</td>\n",
       "      <td>3.032433</td>\n",
       "      <td>...</td>\n",
       "      <td>3.041737</td>\n",
       "      <td>3.043038</td>\n",
       "      <td>3.044065</td>\n",
       "      <td>3.044968</td>\n",
       "      <td>3.044953</td>\n",
       "      <td>3.047375</td>\n",
       "      <td>3.049428</td>\n",
       "      <td>3.051526</td>\n",
       "      <td>3.054607</td>\n",
       "      <td>3.055966</td>\n",
       "    </tr>\n",
       "    <tr>\n",
       "      <th>2</th>\n",
       "      <td>3.108807</td>\n",
       "      <td>3.067680</td>\n",
       "      <td>3.044243</td>\n",
       "      <td>3.044845</td>\n",
       "      <td>3.030030</td>\n",
       "      <td>3.028053</td>\n",
       "      <td>3.030163</td>\n",
       "      <td>3.027274</td>\n",
       "      <td>3.028297</td>\n",
       "      <td>3.028128</td>\n",
       "      <td>...</td>\n",
       "      <td>3.037098</td>\n",
       "      <td>3.039775</td>\n",
       "      <td>3.042416</td>\n",
       "      <td>3.044248</td>\n",
       "      <td>3.045976</td>\n",
       "      <td>3.047448</td>\n",
       "      <td>3.049240</td>\n",
       "      <td>3.051531</td>\n",
       "      <td>3.053888</td>\n",
       "      <td>3.055226</td>\n",
       "    </tr>\n",
       "    <tr>\n",
       "      <th>3</th>\n",
       "      <td>3.114352</td>\n",
       "      <td>3.069684</td>\n",
       "      <td>3.046607</td>\n",
       "      <td>3.047013</td>\n",
       "      <td>3.035969</td>\n",
       "      <td>3.032751</td>\n",
       "      <td>3.034596</td>\n",
       "      <td>3.033096</td>\n",
       "      <td>3.035026</td>\n",
       "      <td>3.035029</td>\n",
       "      <td>...</td>\n",
       "      <td>3.043115</td>\n",
       "      <td>3.044356</td>\n",
       "      <td>3.046225</td>\n",
       "      <td>3.046840</td>\n",
       "      <td>3.048751</td>\n",
       "      <td>3.050162</td>\n",
       "      <td>3.051926</td>\n",
       "      <td>3.054362</td>\n",
       "      <td>3.055438</td>\n",
       "      <td>3.055806</td>\n",
       "    </tr>\n",
       "    <tr>\n",
       "      <th>4</th>\n",
       "      <td>3.129124</td>\n",
       "      <td>3.086382</td>\n",
       "      <td>3.058059</td>\n",
       "      <td>3.059980</td>\n",
       "      <td>3.045152</td>\n",
       "      <td>3.041184</td>\n",
       "      <td>3.040248</td>\n",
       "      <td>3.039687</td>\n",
       "      <td>3.038846</td>\n",
       "      <td>3.040285</td>\n",
       "      <td>...</td>\n",
       "      <td>3.046652</td>\n",
       "      <td>3.047629</td>\n",
       "      <td>3.048161</td>\n",
       "      <td>3.049216</td>\n",
       "      <td>3.051157</td>\n",
       "      <td>3.053527</td>\n",
       "      <td>3.057512</td>\n",
       "      <td>3.058295</td>\n",
       "      <td>3.059675</td>\n",
       "      <td>3.060552</td>\n",
       "    </tr>\n",
       "  </tbody>\n",
       "</table>\n",
       "<p>5 rows × 24 columns</p>\n",
       "</div>"
      ],
      "text/plain": [
       "columns (m)        1         2         3         4         5         6   \\\n",
       "0            3.105163  3.057176  3.032929  3.031927  3.023577  3.019515   \n",
       "1            3.103628  3.061955  3.039230  3.038055  3.032453  3.029328   \n",
       "2            3.108807  3.067680  3.044243  3.044845  3.030030  3.028053   \n",
       "3            3.114352  3.069684  3.046607  3.047013  3.035969  3.032751   \n",
       "4            3.129124  3.086382  3.058059  3.059980  3.045152  3.041184   \n",
       "\n",
       "columns (m)        7         8         9         10    ...           15  \\\n",
       "0            3.021209  3.019978  3.020911  3.022078    ...     3.030379   \n",
       "1            3.033149  3.029922  3.031854  3.032433    ...     3.041737   \n",
       "2            3.030163  3.027274  3.028297  3.028128    ...     3.037098   \n",
       "3            3.034596  3.033096  3.035026  3.035029    ...     3.043115   \n",
       "4            3.040248  3.039687  3.038846  3.040285    ...     3.046652   \n",
       "\n",
       "columns (m)        16        17        18        19        20        21  \\\n",
       "0            3.032128  3.033085  3.034386  3.036236  3.038905  3.038712   \n",
       "1            3.043038  3.044065  3.044968  3.044953  3.047375  3.049428   \n",
       "2            3.039775  3.042416  3.044248  3.045976  3.047448  3.049240   \n",
       "3            3.044356  3.046225  3.046840  3.048751  3.050162  3.051926   \n",
       "4            3.047629  3.048161  3.049216  3.051157  3.053527  3.057512   \n",
       "\n",
       "columns (m)        22        23        24  \n",
       "0            3.039494  3.041370  3.042507  \n",
       "1            3.051526  3.054607  3.055966  \n",
       "2            3.051531  3.053888  3.055226  \n",
       "3            3.054362  3.055438  3.055806  \n",
       "4            3.058295  3.059675  3.060552  \n",
       "\n",
       "[5 rows x 24 columns]"
      ]
     },
     "execution_count": 6,
     "metadata": {},
     "output_type": "execute_result"
    }
   ],
   "source": [
    "df = pd.read_csv('rmse-step1.csv')\n",
    "df = df.set_index('Unnamed: 0')\n",
    "df = df.transpose()\n",
    "df.columns.name = 'columns (m)'\n",
    "df.head()"
   ]
  },
  {
   "cell_type": "code",
   "execution_count": 7,
   "metadata": {},
   "outputs": [
    {
     "name": "stderr",
     "output_type": "stream",
     "text": [
      "/Library/Frameworks/Python.framework/Versions/3.6/lib/python3.6/site-packages/seaborn/timeseries.py:183: UserWarning: The tsplot function is deprecated and will be removed or replaced (in a substantially altered version) in a future release.\n",
      "  warnings.warn(msg, UserWarning)\n"
     ]
    },
    {
     "data": {
      "text/plain": [
       "<matplotlib.axes._subplots.AxesSubplot at 0x1130224e0>"
      ]
     },
     "execution_count": 7,
     "metadata": {},
     "output_type": "execute_result"
    },
    {
     "data": {
      "image/png": "[encoded data removed]",
      "text/plain": [
       "<matplotlib.figure.Figure at 0x113022470>"
      ]
     },
     "metadata": {},
     "output_type": "display_data"
    }
   ],
   "source": [
    "plt.suptitle('RMSE vs. Columns',fontsize=14)\n",
    "plt.title('(Test Step of 1, m from 1 to 24)', fontsize=10)\n",
    "sns.tsplot(data=df.as_matrix(), time=df.columns, value='RMSE')"
   ]
  },
  {
   "cell_type": "code",
   "execution_count": null,
   "metadata": {
    "collapsed": true
   },
   "outputs": [],
   "source": []
  }
 ],
 "metadata": {
  "kernelspec": {
   "display_name": "Python 3",
   "language": "python",
   "name": "python3"
  },
  "language_info": {
   "codemirror_mode": {
    "name": "ipython",
    "version": 3
   },
   "file_extension": ".py",
   "mimetype": "text/x-python",
   "name": "python",
   "nbconvert_exporter": "python",
   "pygments_lexer": "ipython3",
   "version": "3.6.0"
  }
 },
 "nbformat": 4,
 "nbformat_minor": 2
}
